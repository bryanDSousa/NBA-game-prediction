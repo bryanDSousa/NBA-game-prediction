{
 "cells": [
  {
   "cell_type": "code",
   "execution_count": null,
   "metadata": {},
   "outputs": [],
   "source": []
  },
  {
   "cell_type": "code",
   "execution_count": 1,
   "metadata": {},
   "outputs": [],
   "source": [
    "import pandas as pd\n",
    "import numpy as np\n",
    "import re\n",
    "from datetime import datetime, timedelta"
   ]
  },
  {
   "cell_type": "code",
   "execution_count": 2,
   "metadata": {},
   "outputs": [],
   "source": [
    "stats_equipos = pd.read_csv(\"./input.csv\")\n",
    "distancias = pd.read_csv(\"./distancias.csv\")\n",
    "stats_equipos = stats_equipos.drop_duplicates(['ID Partido'], keep='last')"
   ]
  },
  {
   "cell_type": "code",
   "execution_count": 3,
   "metadata": {},
   "outputs": [],
   "source": [
    "stats_equipos['number_date'] = stats_equipos['ID Partido'].replace('[A-z]', '', regex = True)\n",
    "stats_equipos['number_date'] = stats_equipos['number_date'].replace('\\.', '', regex = True)\n",
    "stats_equipos['number_date'] = stats_equipos['number_date'].replace('\\/', '', regex = True)\n",
    "stats_equipos['number_date'] = stats_equipos['number_date'].str.slice(0,8)"
   ]
  },
  {
   "cell_type": "code",
   "execution_count": 4,
   "metadata": {},
   "outputs": [],
   "source": [
    "stats_equipos['number_date'] = pd.to_datetime(stats_equipos['number_date'], format='%Y%m%d', errors='ignore')"
   ]
  },
  {
   "cell_type": "code",
   "execution_count": 5,
   "metadata": {},
   "outputs": [],
   "source": [
    "stats_equipos['previous_date'] = stats_equipos['number_date'] - timedelta(days =1)\n",
    "stats_equipos['previous_date'] = pd.to_datetime(stats_equipos['previous_date'], format='%Y%m%d', errors='ignore')"
   ]
  },
  {
   "cell_type": "code",
   "execution_count": 6,
   "metadata": {},
   "outputs": [],
   "source": [
    "stats_equipos['local_dif_between_previous_game'] = 0\n",
    "stats_equipos['visitor_dif_between_previous_game'] = 0\n",
    "stats_equipos['local_dif_between_previous_game'] = pd.to_datetime(stats_equipos['local_dif_between_previous_game'], format='%Y%m%d', errors='ignore')\n",
    "stats_equipos['visitor_dif_between_previous_game'] = pd.to_datetime(stats_equipos['visitor_dif_between_previous_game'], format='%Y%m%d', errors='ignore')"
   ]
  },
  {
   "cell_type": "code",
   "execution_count": 7,
   "metadata": {},
   "outputs": [
    {
     "name": "stderr",
     "output_type": "stream",
     "text": [
      "C:\\Users\\34680\\Anaconda3\\lib\\site-packages\\ipykernel_launcher.py:19: UserWarning: Boolean Series key will be reindexed to match DataFrame index.\n",
      "C:\\Users\\34680\\Anaconda3\\lib\\site-packages\\ipykernel_launcher.py:20: UserWarning: Boolean Series key will be reindexed to match DataFrame index.\n"
     ]
    }
   ],
   "source": [
    "stats_equipos['local_played_previous_date'] = 0\n",
    "stats_equipos['visitor_played_previous_date'] = 0\n",
    "stats_equipos['previous_10_days'] = stats_equipos['number_date'] - timedelta(days =10)\n",
    "stats_equipos['previous_10_days'] = pd.to_datetime(stats_equipos['previous_10_days'], format='%Y%m%d', errors='ignore')\n",
    "stats_equipos['local_played_local'] = 0\n",
    "stats_equipos['local_played_visitor'] = 0\n",
    "stats_equipos['visitor_played_visitor'] = 0\n",
    "stats_equipos['visitor_played_local'] = 0\n",
    "stats_equipos ['place_local_played'] = 'Nada'\n",
    "stats_equipos ['place_visitor_played'] = 'Nada'\n",
    "stats_equipos ['avg_distance_place_visitor_played'] = -1\n",
    "stats_equipos ['avg_distance_place_local_played'] = -1\n",
    "\n",
    "\n",
    "for actual in stats_equipos.index:\n",
    "    \n",
    "    jugo_dia_anterior = stats_equipos[(stats_equipos ['number_date'] == stats_equipos.loc[actual,'previous_date'])]\n",
    "    \n",
    "    visitor_jugo_dia_anterior = jugo_dia_anterior[((stats_equipos['local_team'] == stats_equipos.loc[actual,'visitor_team'])|(stats_equipos['visitor_team'] == stats_equipos.loc[actual,'visitor_team']))]\n",
    "    local_jugo_dia_anterior = jugo_dia_anterior[((stats_equipos['local_team'] == stats_equipos.loc[actual,'local_team'])|(stats_equipos['visitor_team'] == stats_equipos.loc[actual,'local_team']))]\n",
    "    \n",
    "    diez_dias_previos = stats_equipos[(stats_equipos['number_date'] > stats_equipos.loc[actual,'previous_10_days']) & (stats_equipos['number_date'] < (stats_equipos.loc[actual,'number_date']))]\n",
    "    \n",
    "    if not(local_jugo_dia_anterior.empty):\n",
    "        stats_equipos.loc[actual,'local_played_previous_date'] = 1\n",
    "   \n",
    "    if not (visitor_jugo_dia_anterior.empty):\n",
    "        stats_equipos.loc[actual,'visitor_played_previous_date'] = 1\n",
    "    \n",
    "    if not (diez_dias_previos.empty):                                 \n",
    "\n",
    "        local_jugo_local = diez_dias_previos[((diez_dias_previos['local_team'] == stats_equipos.loc[actual,'local_team']))]        \n",
    "        local_jugo_visitante = diez_dias_previos[((diez_dias_previos['visitor_team'] == stats_equipos.loc[actual,'local_team']))]   \n",
    "        visitante_jugo_local = diez_dias_previos[((diez_dias_previos['local_team'] == stats_equipos.loc[actual,'visitor_team']))]\n",
    "        visitante_jugo_visitante = diez_dias_previos[((diez_dias_previos['visitor_team'] == stats_equipos.loc[actual,'visitor_team']))]\n",
    "\n",
    "        if not (local_jugo_local.empty | local_jugo_visitante.empty):\n",
    "            maximo_local_jugo_local = local_jugo_local[max(local_jugo_local['number_date']) == local_jugo_local['number_date']]    \n",
    "            maximo_local_jugo_visitante = local_jugo_visitante[max(local_jugo_visitante['number_date']) == local_jugo_visitante['number_date']]\n",
    "            maximo_local_jugo_local = maximo_local_jugo_local.set_index('number_date')\n",
    "            maximo_local_jugo_visitante = maximo_local_jugo_visitante.set_index('number_date')\n",
    "\n",
    "            \n",
    "            if (maximo_local_jugo_local.index.max() > maximo_local_jugo_visitante.index.max()):\n",
    "                \n",
    "                stats_equipos.loc[actual,'place_local_played'] = stats_equipos.loc[actual, 'local_team']\n",
    "                stats_equipos.loc[actual, 'avg_distance_place_local_played'] = 0\n",
    "                stats_equipos.loc[actual,'local_dif_between_previous_game'] = stats_equipos.loc[actual, 'number_date'] - maximo_local_jugo_local.index.max()                \n",
    "                stats_equipos.loc[actual,'local_dif_between_previous_game'] = (stats_equipos.loc[actual,'local_dif_between_previous_game'] / np.timedelta64(1, 'D'))\n",
    "                \n",
    "                if(maximo_local_jugo_local.loc[maximo_local_jugo_local.index.max(), 'local_played_local'] > -1):\n",
    "                    stats_equipos.loc[actual,'local_played_local'] = maximo_local_jugo_local.loc[maximo_local_jugo_local.index.max(), 'local_played_local'] + 1\n",
    "                    stats_equipos.loc[actual,'local_played_visitor'] = 0\n",
    "                else:\n",
    "                    stats_equipos.loc[actual,'local_played_local'] = 1\n",
    "                    stats_equipos.loc[actual,'local_played_visitor'] = 0\n",
    "\n",
    "            elif (maximo_local_jugo_local.index.max() < maximo_local_jugo_visitante.index.max()):\n",
    "                \n",
    "                stats_equipos.loc[actual,'place_local_played'] = maximo_local_jugo_visitante.loc[maximo_local_jugo_visitante.index.max(), 'local_team']\n",
    "                stats_equipos.loc[actual,'local_dif_between_previous_game'] = stats_equipos.loc[actual, 'number_date'] - maximo_local_jugo_visitante.index.max()                \n",
    "                stats_equipos.loc[actual,'local_dif_between_previous_game'] = (stats_equipos.loc[actual,'local_dif_between_previous_game'] / np.timedelta64(1, 'D'))              \n",
    "                \n",
    "                if(maximo_local_jugo_visitante.loc[maximo_local_jugo_visitante.index.max(), 'local_played_visitor'] > -1):\n",
    "                    stats_equipos.loc[actual,'local_played_visitor'] = maximo_local_jugo_visitante.loc[maximo_local_jugo_visitante.index.max(), 'local_played_visitor'] + 1\n",
    "                    stats_equipos.loc[actual,'local_played_local'] = 0\n",
    "                else:\n",
    "                    stats_equipos.loc[actual,'local_played_visitor'] = 1\n",
    "                    stats_equipos.loc[actual,'local_played_local'] = 0\n",
    "                    \n",
    "        elif not (local_jugo_local.empty):\n",
    "                        \n",
    "            maximo_local_jugo_local = local_jugo_local[max(local_jugo_local['number_date']) == local_jugo_local['number_date']]\n",
    "            maximo_local_jugo_local = maximo_local_jugo_local.set_index('number_date')\n",
    "            \n",
    "            stats_equipos.loc[actual,'place_local_played'] = stats_equipos.loc[actual, 'local_team']\n",
    "            stats_equipos.loc[actual, 'avg_distance_place_local_played'] = 0\n",
    "            stats_equipos.loc[actual,'local_dif_between_previous_game'] = stats_equipos.loc[actual, 'number_date'] - maximo_local_jugo_local.index.max()\n",
    "            stats_equipos.loc[actual,'local_dif_between_previous_game'] = (stats_equipos.loc[actual,'local_dif_between_previous_game'] / np.timedelta64(1, 'D'))         \n",
    "            \n",
    "            if(maximo_local_jugo_local.loc[maximo_local_jugo_local.index.max(), 'local_played_local'] > -1):\n",
    "                stats_equipos.loc[actual,'local_played_local'] = maximo_local_jugo_local.loc[maximo_local_jugo_local.index.max(), 'local_played_local'] + 1\n",
    "                stats_equipos.loc[actual,'local_played_visitor'] = 0\n",
    "            else:\n",
    "                stats_equipos.loc[actual,'local_played_local'] = 1\n",
    "                stats_equipos.loc[actual,'local_played_visitor'] = 0\n",
    "        \n",
    "        elif not (local_jugo_visitante.empty):\n",
    "\n",
    "            maximo_local_jugo_visitante = local_jugo_visitante[max(local_jugo_visitante['number_date']) == local_jugo_visitante['number_date']]\n",
    "            maximo_local_jugo_visitante = maximo_local_jugo_visitante.set_index('number_date')\n",
    "            \n",
    "            stats_equipos.loc[actual,'place_local_played'] = maximo_local_jugo_visitante.loc[maximo_local_jugo_visitante.index.max(), 'local_team']\n",
    "            stats_equipos.loc[actual,'local_dif_between_previous_game'] = stats_equipos.loc[actual, 'number_date'] - maximo_local_jugo_visitante.index.max()        \n",
    "            stats_equipos.loc[actual,'local_dif_between_previous_game'] = (stats_equipos.loc[actual,'local_dif_between_previous_game'] / np.timedelta64(1, 'D'))\n",
    "            \n",
    "            if(maximo_local_jugo_visitante.loc[maximo_local_jugo_visitante.index.max(), 'local_played_visitor'] > -1):\n",
    "                stats_equipos.loc[actual,'local_played_visitor'] = maximo_local_jugo_visitante.loc[maximo_local_jugo_visitante.index.max(), 'local_played_visitor'] + 1\n",
    "                stats_equipos.loc[actual,'local_played_local'] = 0\n",
    "            else:\n",
    "                stats_equipos.loc[actual,'local_played_visitor'] = 1\n",
    "                stats_equipos.loc[actual,'local_played_local'] = 0            \n",
    "        \n",
    "        if not (visitante_jugo_local.empty | visitante_jugo_visitante.empty):\n",
    "                \n",
    "            maximo_visitante_jugo_local = visitante_jugo_local[max(visitante_jugo_local['number_date']) == visitante_jugo_local['number_date']]\n",
    "            maximo_visitante_jugo_visitante = visitante_jugo_visitante[max(visitante_jugo_visitante['number_date']) == visitante_jugo_visitante['number_date']]\n",
    "            maximo_visitante_jugo_local = maximo_visitante_jugo_local.set_index('number_date')\n",
    "            maximo_visitante_jugo_visitante = maximo_visitante_jugo_visitante.set_index('number_date')\n",
    "\n",
    "            if (maximo_visitante_jugo_local.index.max() > maximo_visitante_jugo_visitante.index.max()):\n",
    "                \n",
    "                stats_equipos.loc[actual,'place_visitor_played'] = maximo_visitante_jugo_local.loc[maximo_visitante_jugo_local.index.max(),'local_team']\n",
    "                stats_equipos.loc[actual,'visitor_dif_between_previous_game'] = stats_equipos.loc[actual,'number_date'] - maximo_visitante_jugo_local.index.max()                \n",
    "                stats_equipos.loc[actual,'visitor_dif_between_previous_game'] = (stats_equipos.loc[actual,'visitor_dif_between_previous_game'] / np.timedelta64(1, 'D'))     \n",
    "                \n",
    "                if(maximo_visitante_jugo_local.loc[maximo_visitante_jugo_local.index.max(), 'visitor_played_local'] > -1):\n",
    "                    stats_equipos.loc[actual,'visitor_played_local'] = maximo_visitante_jugo_local.loc[maximo_visitante_jugo_local.index.max(),'visitor_played_local'] + 1\n",
    "                    stats_equipos.loc[actual,'visitor_played_visitor'] = 0\n",
    "                else:\n",
    "                    stats_equipos.loc[actual,'visitor_played_local'] = 1\n",
    "                    stats_equipos.loc[actual,'visitor_played_visitor'] = 0\n",
    "\n",
    "            elif (maximo_visitante_jugo_local.index.max() < maximo_visitante_jugo_visitante.index.max()):\n",
    "                \n",
    "                stats_equipos.loc[actual,'place_visitor_played'] = maximo_visitante_jugo_visitante.loc[maximo_visitante_jugo_visitante.index.max(), 'local_team']\n",
    "                stats_equipos.loc[actual,'visitor_dif_between_previous_game'] = stats_equipos.loc[actual, 'number_date'] - maximo_visitante_jugo_visitante.index.max()                \n",
    "                stats_equipos.loc[actual,'visitor_dif_between_previous_game'] = (stats_equipos.loc[actual,'visitor_dif_between_previous_game'] / np.timedelta64(1, 'D'))      \n",
    "                \n",
    "                if(maximo_visitante_jugo_visitante.loc[maximo_visitante_jugo_visitante.index.max(), 'visitor_played_visitor'] > -1):\n",
    "                    stats_equipos.loc[actual,'visitor_played_visitor'] = maximo_visitante_jugo_visitante.loc[maximo_visitante_jugo_visitante.index.max(), 'visitor_played_visitor'] + 1\n",
    "                    stats_equipos.loc[actual,'visitor_played_local'] = 0\n",
    "                else:\n",
    "                    stats_equipos.loc[actual,'visitor_played_visitor'] = 1\n",
    "                    stats_equipos.loc[actual,'visitor_played_local'] = 0\n",
    "                    \n",
    "        elif not (visitante_jugo_local.empty):            \n",
    "            \n",
    "            maximo_visitante_jugo_local = visitante_jugo_local[max(visitante_jugo_local['number_date']) == visitante_jugo_local['number_date']]\n",
    "            maximo_visitante_jugo_local = maximo_visitante_jugo_local.set_index('number_date')\n",
    "            \n",
    "            stats_equipos.loc[actual,'place_visitor_played'] = maximo_visitante_jugo_local.loc[maximo_visitante_jugo_local.index.max(), 'local_team']\n",
    "            stats_equipos.loc[actual,'visitor_dif_between_previous_game'] = stats_equipos.loc[actual, 'number_date'] - maximo_visitante_jugo_local.index.max()                \n",
    "            stats_equipos.loc[actual,'visitor_dif_between_previous_game'] = (stats_equipos.loc[actual,'visitor_dif_between_previous_game'] / np.timedelta64(1, 'D'))    \n",
    "            \n",
    "            if(maximo_visitante_jugo_local.loc[maximo_visitante_jugo_local.index.max(), 'visitor_played_local'] > -1):\n",
    "                    \n",
    "                    stats_equipos.loc[actual,'visitor_played_local'] = maximo_visitante_jugo_local.loc[maximo_visitante_jugo_local.index.max(), 'visitor_played_local'] + 1\n",
    "                    stats_equipos.loc[actual,'visitor_played_visitor'] = 0\n",
    "            else:\n",
    "                    stats_equipos.loc[actual,'visitor_played_local'] = 1\n",
    "                    stats_equipos.loc[actual,'visitor_played_visitor'] = 0\n",
    "                    \n",
    "        elif not (visitante_jugo_visitante.empty):\n",
    "            \n",
    "            maximo_visitante_jugo_visitante = visitante_jugo_visitante[max(visitante_jugo_visitante['number_date']) == visitante_jugo_visitante['number_date']]\n",
    "            maximo_visitante_jugo_visitante = maximo_visitante_jugo_visitante.set_index('number_date')\n",
    "            \n",
    "            stats_equipos.loc[actual,'place_visitor_played'] = maximo_visitante_jugo_visitante.loc[maximo_visitante_jugo_visitante.index.max(), 'local_team']\n",
    "            stats_equipos.loc[actual,'visitor_dif_between_previous_game'] = stats_equipos.loc[actual, 'number_date'] - maximo_visitante_jugo_visitante.index.max()                \n",
    "            stats_equipos.loc[actual,'visitor_dif_between_previous_game'] = (stats_equipos.loc[actual,'visitor_dif_between_previous_game'] / np.timedelta64(1, 'D'))\n",
    "            \n",
    "            if(maximo_visitante_jugo_visitante.loc[maximo_visitante_jugo_visitante.index.max(), 'visitor_played_visitor'] > -1):\n",
    "                stats_equipos.loc[actual,'visitor_played_visitor'] = maximo_visitante_jugo_visitante.loc[maximo_visitante_jugo_visitante.index.max(), 'visitor_played_visitor'] + 1\n",
    "                stats_equipos.loc[actual,'visitor_played_local'] = 0\n",
    "            else:\n",
    "                stats_equipos.loc[actual,'visitor_played_visitor'] = 1\n",
    "                stats_equipos.loc[actual,'visitor_played_local'] = 0"
   ]
  },
  {
   "cell_type": "code",
   "execution_count": null,
   "metadata": {},
   "outputs": [],
   "source": []
  },
  {
   "cell_type": "code",
   "execution_count": 8,
   "metadata": {},
   "outputs": [],
   "source": [
    "distancias.rename(columns={'Equipo A':'local_team','Equipo B':'visitor_team'}, inplace=True)\n",
    "stats_equipos = pd.merge(stats_equipos, distancias, on=['local_team', 'visitor_team'], how='left')\n",
    "stats_equipos.rename(columns={'Distancia':'distance_between_stadiums'}, inplace=True)"
   ]
  },
  {
   "cell_type": "code",
   "execution_count": 9,
   "metadata": {},
   "outputs": [],
   "source": [
    "distancias.rename(columns={'visitor_team':'place_local_played'}, inplace=True)\n",
    "stats_equipos = pd.merge(stats_equipos, distancias, on=['local_team', 'place_local_played'], how='left')\n",
    "stats_equipos.rename(columns={'Distancia':'distance_local_traveled'}, inplace=True)"
   ]
  },
  {
   "cell_type": "code",
   "execution_count": 10,
   "metadata": {},
   "outputs": [],
   "source": [
    "distancias.rename(columns={'place_local_played':'place_visitor_played'}, inplace=True)\n",
    "stats_equipos = pd.merge(stats_equipos, distancias, on=['local_team', 'place_visitor_played'], how='left')\n",
    "stats_equipos.rename(columns={'Distancia':'distance_visitor_traveled'}, inplace=True)"
   ]
  },
  {
   "cell_type": "code",
   "execution_count": 11,
   "metadata": {},
   "outputs": [],
   "source": [
    "for actual in stats_equipos.index:\n",
    "    if (stats_equipos.loc[actual, 'avg_distance_place_local_played'] == 0):\n",
    "        stats_equipos.loc[actual, 'distance_local_traveled'] = 0\n",
    "    if (stats_equipos.loc[actual, 'distance_local_traveled'] != 'NaN'):\n",
    "        stats_equipos.loc[actual, 'avg_distance_place_local_played'] = stats_equipos.loc[actual, 'distance_local_traveled'] / stats_equipos.loc[actual,'local_dif_between_previous_game']\n",
    "    if (stats_equipos.loc[actual, 'distance_visitor_traveled'] != 'NaN'):\n",
    "        stats_equipos.loc[actual, 'avg_distance_place_visitor_played'] = stats_equipos.loc[actual, 'distance_visitor_traveled'] / stats_equipos.loc[actual,'visitor_dif_between_previous_game']\n"
   ]
  },
  {
   "cell_type": "code",
   "execution_count": null,
   "metadata": {},
   "outputs": [],
   "source": [
    "stats_equipos = stats_equipos.drop(columns =[\"previous_10_days\", 'previous_date'], inplace = True) "
   ]
  },
  {
   "cell_type": "code",
   "execution_count": null,
   "metadata": {},
   "outputs": [],
   "source": [
    "pd.options.display.max_rows = 30\n",
    "pd.options.display.max_columns = 300"
   ]
  },
  {
   "cell_type": "code",
   "execution_count": 12,
   "metadata": {},
   "outputs": [],
   "source": [
    "stats_equipos.to_csv('./input_extendido.csv')"
   ]
  },
  {
   "cell_type": "code",
   "execution_count": null,
   "metadata": {},
   "outputs": [],
   "source": []
  },
  {
   "cell_type": "code",
   "execution_count": null,
   "metadata": {},
   "outputs": [],
   "source": []
  }
 ],
 "metadata": {
  "kernelspec": {
   "display_name": "Python 3",
   "language": "python",
   "name": "python3"
  },
  "language_info": {
   "codemirror_mode": {
    "name": "ipython",
    "version": 3
   },
   "file_extension": ".py",
   "mimetype": "text/x-python",
   "name": "python",
   "nbconvert_exporter": "python",
   "pygments_lexer": "ipython3",
   "version": "3.7.4"
  }
 },
 "nbformat": 4,
 "nbformat_minor": 2
}
